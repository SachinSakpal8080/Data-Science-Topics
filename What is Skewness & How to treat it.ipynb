{
 "cells": [
  {
   "cell_type": "markdown",
   "metadata": {},
   "source": [
    "#### Overview:\n",
    "\n",
    "Skewness is very important concept in the Data Science & Analytics field.    \n",
    "Let's learn the importance of the skewness in the data."
   ]
  },
  {
   "cell_type": "markdown",
   "metadata": {},
   "source": [
    "#### What is skewness?"
   ]
  },
  {
   "cell_type": "markdown",
   "metadata": {},
   "source": [
    "Skewness is distortion or asymmetry in a symmetrical bell curve, or normal distribution in a set of data.  \n",
    "If the curve or distribution plot is shifted to the left or to the right, it is said to be skewed.   \n",
    "Skewness can be qualified as  a representation of the extent to which a given data's distribution varies from a normal distribution.   \n",
    "Normal distribution has a skewness value as ZERO.\n",
    "There are three sknewness in the data.\n",
    "1. Positive Skewness\n",
    "2. Negative Skewness\n",
    "3. Zero Skewness OR Normal Distribution"
   ]
  },
  {
   "cell_type": "markdown",
   "metadata": {},
   "source": [
    "#### Zero Sknewness OR Normal Distribution:"
   ]
  },
  {
   "cell_type": "markdown",
   "metadata": {},
   "source": [
    "In Real life, data rarely follow a perfect normal distribution.   \n",
    "The skewness coefficient measure how different a given distribution is from a normal distribution.   \n",
    "The skewness measures the symmetry of a distribution.     \n",
    "The normal distribution is symmetric and has a skewness of zero.   \n",
    "When the skewness is zero & mean, median, mode values are on the same line."
   ]
  },
  {
   "cell_type": "code",
   "execution_count": 80,
   "metadata": {},
   "outputs": [
    {
     "data": {
      "image/png": "[encoded data removed]",
      "text/plain": [
       "<Figure size 432x288 with 1 Axes>"
      ]
     },
     "metadata": {
      "needs_background": "light"
     },
     "output_type": "display_data"
    }
   ],
   "source": [
    "import numpy as np\n",
    "import matplotlib.pyplot as plt\n",
    "\n",
    "class norm1:\n",
    "    def __init__(self, a1, b1, c1):\n",
    "        self.a1 = a1\n",
    "        self.b1 = b1\n",
    "        self.c1 = c1\n",
    "        \n",
    "    def dist_curve(self):\n",
    "        plt.plot(self.c1, 1/(self.b1 * np.sqrt(2 * np.pi)) *\n",
    "            np.exp( - (self.c1 - self.a1)**2 / (2 * self.b1**2) ), linewidth=2, color='y')\n",
    "        plt.show()\n",
    "\n",
    "#Vary the mean and SD to generate different plots\n",
    "mean1 = 5 \n",
    "sd1 = 2\n",
    "\n",
    "c = np.random.normal(mean1, sd1, 3000)\n",
    "        \n",
    "w1, x1, z1 = plt.hist(c, 100, normed=True) #hist\n",
    "\n",
    "hist1 = norm1(mean1, sd1, x1)\n",
    "plot1 = hist1.dist_curve()\n",
    "\n",
    "data = pd.DataFrame(c)"
   ]
  },
  {
   "cell_type": "code",
   "execution_count": 84,
   "metadata": {},
   "outputs": [
    {
     "name": "stdout",
     "output_type": "stream",
     "text": [
      "Skewness of the data:  0.0\n"
     ]
    }
   ],
   "source": [
    "print('Skewness of the data: ', round(data[0].skew(),1))"
   ]
  },
  {
   "cell_type": "markdown",
   "metadata": {},
   "source": [
    "#### Positive Skewness: \n",
    "\n",
    "Positive Skewness means when the tail of the distribution plot is on the right side of the distribution is longer or fatter.    \n",
    "The mean & median will be greater than the mode.   \n",
    "Tail of the probability distribution lies on the right side.   \n",
    "Q3 - Q2 > Q2 - Q1\n",
    "\n",
    "##### Mean  >  Median  >  Mode"
   ]
  },
  {
   "cell_type": "code",
   "execution_count": 89,
   "metadata": {},
   "outputs": [
    {
     "name": "stdout",
     "output_type": "stream",
     "text": [
      "Skewness of the data:  0.1\n"
     ]
    }
   ],
   "source": [
    "data = [0.144, 0.125, 0.141, 0.189, 0.161, 0.186, 0.106, 0.117, 0.174, 0.094, 0.147, 0.141, 0.135, 0.1, 0.189, \n",
    "        0.149, 0.119, 0.158, 0.259, 0.193, 0.155, 0.197, 0.133, 0.196, 0.206, 0.11, 0.096, 0.193, 0.154, 0.204, \n",
    "        0.141, 0.209, 0.1, 0.158, 0.087, 0.163, 0.207, 0.197, 0.16, 0.064, 0.1, 0.082, 0.131, 0.17, 0.15]\n",
    "data = pd.DataFrame(data)\n",
    "print('Skewness of the data: ', round(data[0].skew(),4))"
   ]
  },
  {
   "cell_type": "code",
   "execution_count": 90,
   "metadata": {},
   "outputs": [
    {
     "data": {
      "image/png": "[encoded data removed]",
      "text/plain": [
       "<Figure size 432x288 with 1 Axes>"
      ]
     },
     "metadata": {
      "needs_background": "light"
     },
     "output_type": "display_data"
    }
   ],
   "source": [
    "# Create the bins and histogram\n",
    "sns.distplot(data[0])\n",
    "plt.show()"
   ]
  },
  {
   "cell_type": "code",
   "execution_count": 92,
   "metadata": {},
   "outputs": [
    {
     "name": "stdout",
     "output_type": "stream",
     "text": [
      "Mean of the data:  0.15088888888888888\n",
      "\n",
      "\n",
      "Median of the data:  0.15\n",
      "\n",
      "\n",
      "Mode of the data:  0    0.100\n",
      "1    0.141\n",
      "dtype: float64\n"
     ]
    }
   ],
   "source": [
    "mean = data[0].mean()\n",
    "mode = data[0].mode()\n",
    "median = data[0].median()\n",
    "\n",
    "print('Mean of the data: ', mean)\n",
    "print('\\n')\n",
    "print('Median of the data: ', median)\n",
    "print('\\n')\n",
    "print('Mode of the data: ', mode)"
   ]
  },
  {
   "cell_type": "markdown",
   "metadata": {},
   "source": [
    "As we can check, the mean, median & mode values are in the order mentioned above.  \n",
    "Mentioned data is positivly skewed."
   ]
  },
  {
   "cell_type": "code",
   "execution_count": 94,
   "metadata": {},
   "outputs": [
    {
     "name": "stdout",
     "output_type": "stream",
     "text": [
      "Q3 - Q2 > Q2 - Q1:  0.03900000000000001 > 0.031\n"
     ]
    }
   ],
   "source": [
    "Q1 = data[0].quantile(0.25)\n",
    "Q2 = data[0].quantile(0.5)\n",
    "Q3 = data[0].quantile(0.75)\n",
    "\n",
    "print('Q3 - Q2 > Q2 - Q1: ', (Q3-Q2), '>', (Q2 - Q1))"
   ]
  },
  {
   "cell_type": "markdown",
   "metadata": {},
   "source": [
    "#### Negative Skewness\n",
    "Negative Skewness is when the tail of the left side of the distribution is longer or fatter than the tail on the right side.   \n",
    "The mean and median will be less than the mode.    \n",
    "Tail of the probability distribution lies on the left side.    \n",
    "Q3 - Q2 < Q2 - Q1\n",
    "\n",
    "###### Mean < Median < Mode"
   ]
  },
  {
   "cell_type": "code",
   "execution_count": 100,
   "metadata": {},
   "outputs": [
    {
     "name": "stdout",
     "output_type": "stream",
     "text": [
      "Skewness of the data is -0.2795\n"
     ]
    }
   ],
   "source": [
    "data = [0.283, 0.276, 0.281, 0.328, 0.29, 0.296, 0.248, 0.228, 0.305, 0.254, 0.269, 0.3, 0.307, 0.214, 0.329, 0.31, \n",
    "     0.252, 0.308, 0.342, 0.358, 0.34, 0.304, 0.248, 0.367, 0.325, 0.244, 0.245, 0.318, 0.207, 0.32, 0.243, 0.317, \n",
    "     0.199, 0.294, 0.221, 0.301, 0.298, 0.304, 0.297, 0.188, 0.214, 0.218, 0.284, 0.27, 0.277]\n",
    "data = pd.DataFrame(data)\n",
    "print('Skewness of the data is', round(data[0].skew(),4))"
   ]
  },
  {
   "cell_type": "code",
   "execution_count": 101,
   "metadata": {},
   "outputs": [
    {
     "data": {
      "image/png": "[encoded data removed]",
      "text/plain": [
       "<Figure size 432x288 with 1 Axes>"
      ]
     },
     "metadata": {
      "needs_background": "light"
     },
     "output_type": "display_data"
    }
   ],
   "source": [
    "# Create the bins and histogram\n",
    "sns.distplot(data[0])\n",
    "plt.show()"
   ]
  },
  {
   "cell_type": "code",
   "execution_count": 103,
   "metadata": {},
   "outputs": [
    {
     "name": "stdout",
     "output_type": "stream",
     "text": [
      "Mean of the data:  0.2804666666666667\n",
      "\n",
      "\n",
      "Median of the data:  0.29\n",
      "\n",
      "\n",
      "Mode of the data:  0.304\n"
     ]
    }
   ],
   "source": [
    "mean = data[0].mean()\n",
    "mode = data[0].mode()\n",
    "median = data[0].median()\n",
    "\n",
    "print('Mean of the data: ', mean)\n",
    "print('\\n')\n",
    "print('Median of the data: ', median)\n",
    "print('\\n')\n",
    "print('Mode of the data: ', mode[2])"
   ]
  },
  {
   "cell_type": "markdown",
   "metadata": {},
   "source": [
    "Mean & Median is less than mode."
   ]
  },
  {
   "cell_type": "code",
   "execution_count": 105,
   "metadata": {},
   "outputs": [
    {
     "name": "stdout",
     "output_type": "stream",
     "text": [
      "Q3 - Q2 > Q2 - Q1: 0.018000000000000016 < 0.04199999999999998\n"
     ]
    }
   ],
   "source": [
    "Q1 = data[0].quantile(0.25)\n",
    "Q2 = data[0].quantile(0.5)\n",
    "Q3 = data[0].quantile(0.75)\n",
    "\n",
    "print('Q3 - Q2 > Q2 - Q1:' , (Q3-Q2), '<', (Q2 - Q1))"
   ]
  },
  {
   "cell_type": "markdown",
   "metadata": {},
   "source": [
    "### Why Skewness is important?\n",
    "Skewness is measure of asymmetry & they are distinguished based on the probability distribution tail lies on which side.    \n",
    "Linear models works when the distribution of the target feature & independent feature is same.   \n",
    "That is one of the major reason for us to know about the skewness of both features.    \n",
    "Skewness also help us to understand the direction of the outliers.   "
   ]
  },
  {
   "cell_type": "markdown",
   "metadata": {},
   "source": [
    "### How to transform skewed data\n",
    "Since the skewned data can affect the machine learning model's predicting capabilities.   \n",
    "It is better to transform the skewed data to normally distributed data.    \n",
    "Here are some of the ways you can transform your skewed data.   \n",
    "- Power Transformation\n",
    "- Log Transformation\n",
    "- Tangent Transformation etc."
   ]
  },
  {
   "cell_type": "code",
   "execution_count": 150,
   "metadata": {
    "scrolled": true
   },
   "outputs": [
    {
     "data": {
      "text/html": [
       "<div>\n",
       "<style scoped>\n",
       "    .dataframe tbody tr th:only-of-type {\n",
       "        vertical-align: middle;\n",
       "    }\n",
       "\n",
       "    .dataframe tbody tr th {\n",
       "        vertical-align: top;\n",
       "    }\n",
       "\n",
       "    .dataframe thead th {\n",
       "        text-align: right;\n",
       "    }\n",
       "</style>\n",
       "<table border=\"1\" class=\"dataframe\">\n",
       "  <thead>\n",
       "    <tr style=\"text-align: right;\">\n",
       "      <th></th>\n",
       "      <th>Col1</th>\n",
       "      <th>Col2</th>\n",
       "      <th>Col3</th>\n",
       "      <th>Col4</th>\n",
       "      <th>Col5</th>\n",
       "      <th>Col6</th>\n",
       "      <th>Col7</th>\n",
       "      <th>Col8</th>\n",
       "      <th>Col9</th>\n",
       "      <th>Col10</th>\n",
       "      <th>Col11</th>\n",
       "      <th>Col12</th>\n",
       "      <th>Class_att</th>\n",
       "    </tr>\n",
       "  </thead>\n",
       "  <tbody>\n",
       "    <tr>\n",
       "      <td>0</td>\n",
       "      <td>63.027818</td>\n",
       "      <td>22.552586</td>\n",
       "      <td>39.609117</td>\n",
       "      <td>40.475232</td>\n",
       "      <td>98.672917</td>\n",
       "      <td>-0.254400</td>\n",
       "      <td>0.744503</td>\n",
       "      <td>12.5661</td>\n",
       "      <td>14.5386</td>\n",
       "      <td>15.30468</td>\n",
       "      <td>-28.658501</td>\n",
       "      <td>43.5123</td>\n",
       "      <td>Abnormal</td>\n",
       "    </tr>\n",
       "    <tr>\n",
       "      <td>1</td>\n",
       "      <td>39.056951</td>\n",
       "      <td>10.060991</td>\n",
       "      <td>25.015378</td>\n",
       "      <td>28.995960</td>\n",
       "      <td>114.405425</td>\n",
       "      <td>4.564259</td>\n",
       "      <td>0.415186</td>\n",
       "      <td>12.8874</td>\n",
       "      <td>17.5323</td>\n",
       "      <td>16.78486</td>\n",
       "      <td>-25.530607</td>\n",
       "      <td>16.1102</td>\n",
       "      <td>Abnormal</td>\n",
       "    </tr>\n",
       "    <tr>\n",
       "      <td>2</td>\n",
       "      <td>68.832021</td>\n",
       "      <td>22.218482</td>\n",
       "      <td>50.092194</td>\n",
       "      <td>46.613539</td>\n",
       "      <td>105.985135</td>\n",
       "      <td>-3.530317</td>\n",
       "      <td>0.474889</td>\n",
       "      <td>26.8343</td>\n",
       "      <td>17.4861</td>\n",
       "      <td>16.65897</td>\n",
       "      <td>-29.031888</td>\n",
       "      <td>19.2221</td>\n",
       "      <td>Abnormal</td>\n",
       "    </tr>\n",
       "    <tr>\n",
       "      <td>3</td>\n",
       "      <td>69.297008</td>\n",
       "      <td>24.652878</td>\n",
       "      <td>44.311238</td>\n",
       "      <td>44.644130</td>\n",
       "      <td>101.868495</td>\n",
       "      <td>11.211523</td>\n",
       "      <td>0.369345</td>\n",
       "      <td>23.5603</td>\n",
       "      <td>12.7074</td>\n",
       "      <td>11.42447</td>\n",
       "      <td>-30.470246</td>\n",
       "      <td>18.8329</td>\n",
       "      <td>Abnormal</td>\n",
       "    </tr>\n",
       "    <tr>\n",
       "      <td>4</td>\n",
       "      <td>49.712859</td>\n",
       "      <td>9.652075</td>\n",
       "      <td>28.317406</td>\n",
       "      <td>40.060784</td>\n",
       "      <td>108.168725</td>\n",
       "      <td>7.918501</td>\n",
       "      <td>0.543360</td>\n",
       "      <td>35.4940</td>\n",
       "      <td>15.9546</td>\n",
       "      <td>8.87237</td>\n",
       "      <td>-16.378376</td>\n",
       "      <td>24.9171</td>\n",
       "      <td>Abnormal</td>\n",
       "    </tr>\n",
       "  </tbody>\n",
       "</table>\n",
       "</div>"
      ],
      "text/plain": [
       "        Col1       Col2       Col3       Col4        Col5       Col6  \\\n",
       "0  63.027818  22.552586  39.609117  40.475232   98.672917  -0.254400   \n",
       "1  39.056951  10.060991  25.015378  28.995960  114.405425   4.564259   \n",
       "2  68.832021  22.218482  50.092194  46.613539  105.985135  -3.530317   \n",
       "3  69.297008  24.652878  44.311238  44.644130  101.868495  11.211523   \n",
       "4  49.712859   9.652075  28.317406  40.060784  108.168725   7.918501   \n",
       "\n",
       "       Col7     Col8     Col9     Col10      Col11    Col12 Class_att  \n",
       "0  0.744503  12.5661  14.5386  15.30468 -28.658501  43.5123  Abnormal  \n",
       "1  0.415186  12.8874  17.5323  16.78486 -25.530607  16.1102  Abnormal  \n",
       "2  0.474889  26.8343  17.4861  16.65897 -29.031888  19.2221  Abnormal  \n",
       "3  0.369345  23.5603  12.7074  11.42447 -30.470246  18.8329  Abnormal  \n",
       "4  0.543360  35.4940  15.9546   8.87237 -16.378376  24.9171  Abnormal  "
      ]
     },
     "execution_count": 150,
     "metadata": {},
     "output_type": "execute_result"
    }
   ],
   "source": [
    "# Let's check some data with the high skewness.\n",
    "data = pd.read_csv('backpain.csv')\n",
    "data.head()"
   ]
  },
  {
   "cell_type": "code",
   "execution_count": 107,
   "metadata": {},
   "outputs": [
    {
     "name": "stdout",
     "output_type": "stream",
     "text": [
      "Col1     0.520440\n",
      "Col2     0.676553\n",
      "Col3     0.599451\n",
      "Col4     0.792577\n",
      "Col5    -0.176835\n",
      "Col6     4.317954\n",
      "Col7     0.016231\n",
      "Col8     0.010796\n",
      "Col9     0.023046\n",
      "Col10    0.015017\n",
      "Col11   -0.015360\n",
      "Col12    0.064216\n",
      "dtype: float64\n"
     ]
    }
   ],
   "source": [
    "# Let's check the skewness of the data.\n",
    "print(data.skew())"
   ]
  },
  {
   "cell_type": "code",
   "execution_count": 108,
   "metadata": {},
   "outputs": [],
   "source": [
    "# We will be using few columns to use the transformation techniques."
   ]
  },
  {
   "cell_type": "markdown",
   "metadata": {},
   "source": [
    "#### Normalization Function:\n",
    "\n",
    "Normalization converts all data points to decimals between 0 and 1. If the min is 0, simply divide each point by the max.\n",
    "\n",
    "normalization = (x - min) / (max - min)"
   ]
  },
  {
   "cell_type": "code",
   "execution_count": 109,
   "metadata": {},
   "outputs": [],
   "source": [
    "def normalize(column):\n",
    "    upper = column.max()\n",
    "    lower = column.min()\n",
    "    y = (column - lower)/(upper-lower)\n",
    "    return y"
   ]
  },
  {
   "cell_type": "code",
   "execution_count": 110,
   "metadata": {},
   "outputs": [
    {
     "data": {
      "text/plain": [
       "count    310.000000\n",
       "mean       0.331276\n",
       "std        0.166237\n",
       "min        0.000000\n",
       "25%        0.195613\n",
       "50%        0.313862\n",
       "75%        0.450685\n",
       "max        1.000000\n",
       "Name: Col1_normalized, dtype: float64"
      ]
     },
     "execution_count": 110,
     "metadata": {},
     "output_type": "execute_result"
    }
   ],
   "source": [
    "data['Col1_normalized'] = normalize(data['Col1'])\n",
    "data['Col1_normalized'].describe()"
   ]
  },
  {
   "cell_type": "code",
   "execution_count": 111,
   "metadata": {},
   "outputs": [
    {
     "name": "stdout",
     "output_type": "stream",
     "text": [
      "Skewness of the original column:  0.5204398948625644\n",
      "Skewness of the transformed column:  0.5204398948625647\n"
     ]
    }
   ],
   "source": [
    "print('Skewness of the original column: ', data['Col1'].skew())\n",
    "print('Skewness of the transformed column: ', data['Col1_normalized'].skew())"
   ]
  },
  {
   "cell_type": "markdown",
   "metadata": {},
   "source": [
    "After normalization, the data is just as skewed as before.    \n",
    "If the goal is simply to convert the data to points between 0 and 1, normalization is the way to go."
   ]
  },
  {
   "cell_type": "markdown",
   "metadata": {},
   "source": [
    "#### Sigmoid Function: \n",
    "It’s a beautifully smooth curve that guarantees a 0 to 1 range.    "
   ]
  },
  {
   "cell_type": "code",
   "execution_count": 112,
   "metadata": {},
   "outputs": [],
   "source": [
    "def sigmoid(x):\n",
    "    e = np.exp(1)\n",
    "    y = 1/(1+e**(-x))\n",
    "    return y"
   ]
  },
  {
   "cell_type": "code",
   "execution_count": 113,
   "metadata": {},
   "outputs": [
    {
     "data": {
      "text/plain": [
       "count    310.000000\n",
       "mean       0.973813\n",
       "std        0.136608\n",
       "min        0.001421\n",
       "25%        0.999977\n",
       "50%        1.000000\n",
       "75%        1.000000\n",
       "max        1.000000\n",
       "Name: Col2_sigmoid, dtype: float64"
      ]
     },
     "execution_count": 113,
     "metadata": {},
     "output_type": "execute_result"
    }
   ],
   "source": [
    "data['Col2_sigmoid'] = sigmoid(data['Col2'])\n",
    "data['Col2_sigmoid'].describe()"
   ]
  },
  {
   "cell_type": "code",
   "execution_count": 114,
   "metadata": {},
   "outputs": [
    {
     "name": "stdout",
     "output_type": "stream",
     "text": [
      "Skewness of the original column:  0.6765533590425815\n",
      "Skewness of the transformed column:  -5.924300164250537\n"
     ]
    }
   ],
   "source": [
    "print('Skewness of the original column: ', data['Col2'].skew())\n",
    "print('Skewness of the transformed column: ', data['Col2_sigmoid'].skew())"
   ]
  },
  {
   "cell_type": "markdown",
   "metadata": {},
   "source": [
    "The new data is between 0 and 1 as expected, but the skewness is incresed."
   ]
  },
  {
   "cell_type": "markdown",
   "metadata": {},
   "source": [
    "#### Log Function: \n",
    "Logarithms is an excellent choice for making data less skewed."
   ]
  },
  {
   "cell_type": "code",
   "execution_count": 115,
   "metadata": {},
   "outputs": [
    {
     "data": {
      "text/plain": [
       "count    310.000000\n",
       "mean       3.884406\n",
       "std        0.370289\n",
       "min        2.639057\n",
       "25%        3.610918\n",
       "50%        3.903223\n",
       "75%        4.143135\n",
       "max        4.834235\n",
       "Name: Col3_log, dtype: float64"
      ]
     },
     "execution_count": 115,
     "metadata": {},
     "output_type": "execute_result"
    }
   ],
   "source": [
    "data['Col3_log'] = np.log(data['Col3'])\n",
    "data['Col3_log'].describe()"
   ]
  },
  {
   "cell_type": "code",
   "execution_count": 116,
   "metadata": {},
   "outputs": [
    {
     "name": "stdout",
     "output_type": "stream",
     "text": [
      "Skewness of the original column:  0.5994514775939379\n",
      "Skewness of the transformed column:  -0.3399261477534987\n"
     ]
    }
   ],
   "source": [
    "print('Skewness of the original column: ', data['Col3'].skew())\n",
    "print('Skewness of the transformed column: ', data['Col3_log'].skew())"
   ]
  },
  {
   "cell_type": "markdown",
   "metadata": {},
   "source": [
    "Skewness is reduced to -0.3399."
   ]
  },
  {
   "cell_type": "markdown",
   "metadata": {},
   "source": [
    "#### Log Function + 1: \n",
    "When many of data points are 0, for a quick fix, I can add 1 to each data point.   \n",
    "This works well since the log of 1 is 0.    \n",
    "Furthermore, the same spread is retained since all points are increased by 1.    "
   ]
  },
  {
   "cell_type": "code",
   "execution_count": 117,
   "metadata": {},
   "outputs": [
    {
     "data": {
      "text/plain": [
       "count    310.000000\n",
       "mean       3.735567\n",
       "std        0.315774\n",
       "min        2.664929\n",
       "25%        3.536518\n",
       "50%        3.770572\n",
       "75%        3.983335\n",
       "max        4.807536\n",
       "Name: Col4_log_1, dtype: float64"
      ]
     },
     "execution_count": 117,
     "metadata": {},
     "output_type": "execute_result"
    }
   ],
   "source": [
    "data['Col4_log_1'] = np.log(data['Col4']+1)\n",
    "data['Col4_log_1'].describe()"
   ]
  },
  {
   "cell_type": "code",
   "execution_count": 118,
   "metadata": {},
   "outputs": [
    {
     "name": "stdout",
     "output_type": "stream",
     "text": [
      "Skewness of the original column:  0.7925766941630665\n",
      "Skewness of the transformed column:  -0.4560086574962819\n"
     ]
    }
   ],
   "source": [
    "print('Skewness of the original column: ', data['Col4'].skew())\n",
    "print('Skewness of the transformed column: ', data['Col4_log_1'].skew())"
   ]
  },
  {
   "cell_type": "markdown",
   "metadata": {},
   "source": [
    "Skewness is reduced to -0.4560."
   ]
  },
  {
   "cell_type": "markdown",
   "metadata": {},
   "source": [
    "#### Log Function + 1 & Normalized: \n",
    "The log function plus normalization is an excellent way to transform skewed data if the results can still be skewed."
   ]
  },
  {
   "cell_type": "code",
   "execution_count": 119,
   "metadata": {},
   "outputs": [
    {
     "data": {
      "text/plain": [
       "count    310.000000\n",
       "mean       0.499689\n",
       "std        0.147378\n",
       "min        0.000000\n",
       "25%        0.406789\n",
       "50%        0.516027\n",
       "75%        0.615328\n",
       "max        1.000000\n",
       "Name: Col4_log_1_normalize, dtype: float64"
      ]
     },
     "execution_count": 119,
     "metadata": {},
     "output_type": "execute_result"
    }
   ],
   "source": [
    "data['Col4_log_1_normalize'] = normalize(data['Col4_log_1'])\n",
    "data['Col4_log_1_normalize'].describe()"
   ]
  },
  {
   "cell_type": "code",
   "execution_count": 120,
   "metadata": {},
   "outputs": [
    {
     "name": "stdout",
     "output_type": "stream",
     "text": [
      "Skewness of the original column:  -0.4560086574962819\n",
      "Skewness of the transformed column:  -0.45600865749628544\n"
     ]
    }
   ],
   "source": [
    "print('Skewness of the original column: ', data['Col4_log_1'].skew())\n",
    "print('Skewness of the transformed column: ', data['Col4_log_1_normalize'].skew())"
   ]
  },
  {
   "cell_type": "markdown",
   "metadata": {},
   "source": [
    "#### Cube Root: "
   ]
  },
  {
   "cell_type": "code",
   "execution_count": 121,
   "metadata": {},
   "outputs": [
    {
     "data": {
      "text/plain": [
       "count      310.000000\n",
       "mean     14082.061308\n",
       "std       3124.059302\n",
       "min       4911.567299\n",
       "25%      12256.526146\n",
       "50%      13987.367645\n",
       "75%      15742.137794\n",
       "max      26592.164250\n",
       "Name: Col5_square, dtype: float64"
      ]
     },
     "execution_count": 121,
     "metadata": {},
     "output_type": "execute_result"
    }
   ],
   "source": [
    "data['Col5_square'] = data['Col5']**2\n",
    "data['Col5_square'].describe()"
   ]
  },
  {
   "cell_type": "code",
   "execution_count": 122,
   "metadata": {},
   "outputs": [
    {
     "name": "stdout",
     "output_type": "stream",
     "text": [
      "Skewness of the original column:  -0.17683486805355692\n",
      "Skewness of the transformed column:  0.31320947760468704\n"
     ]
    }
   ],
   "source": [
    "print('Skewness of the original column: ', data['Col5'].skew())\n",
    "print('Skewness of the transformed column: ', data['Col5_square'].skew())"
   ]
  },
  {
   "cell_type": "markdown",
   "metadata": {},
   "source": [
    "#### Cube Root Normalized: "
   ]
  },
  {
   "cell_type": "code",
   "execution_count": 123,
   "metadata": {},
   "outputs": [
    {
     "data": {
      "text/plain": [
       "count    310.000000\n",
       "mean       0.422982\n",
       "std        0.144095\n",
       "min        0.000000\n",
       "25%        0.338780\n",
       "50%        0.418614\n",
       "75%        0.499551\n",
       "max        1.000000\n",
       "Name: Col5_square_normalize, dtype: float64"
      ]
     },
     "execution_count": 123,
     "metadata": {},
     "output_type": "execute_result"
    }
   ],
   "source": [
    "data['Col5_square_normalize'] = normalize(data['Col5_square'])\n",
    "data['Col5_square_normalize'].describe()"
   ]
  },
  {
   "cell_type": "code",
   "execution_count": 124,
   "metadata": {},
   "outputs": [
    {
     "name": "stdout",
     "output_type": "stream",
     "text": [
      "Skewness of the original column:  0.31320947760468704\n",
      "Skewness of the transformed column:  0.31320947760468915\n"
     ]
    }
   ],
   "source": [
    "print('Skewness of the original column: ', data['Col5_square'].skew())\n",
    "print('Skewness of the transformed column: ', data['Col5_square_normalize'].skew())"
   ]
  },
  {
   "cell_type": "markdown",
   "metadata": {},
   "source": [
    "#### Square Transformation: "
   ]
  },
  {
   "cell_type": "code",
   "execution_count": 125,
   "metadata": {},
   "outputs": [
    {
     "data": {
      "text/plain": [
       "count    252.000000\n",
       "mean       2.783117\n",
       "std        1.164181\n",
       "min        0.535487\n",
       "25%        1.786059\n",
       "50%        2.998288\n",
       "75%        3.723866\n",
       "max        7.480203\n",
       "Name: Col6_cube_root, dtype: float64"
      ]
     },
     "execution_count": 125,
     "metadata": {},
     "output_type": "execute_result"
    }
   ],
   "source": [
    "data['Col6_cube_root'] = data['Col6']**(1/3)\n",
    "data['Col6_cube_root'].describe()"
   ]
  },
  {
   "cell_type": "code",
   "execution_count": 126,
   "metadata": {},
   "outputs": [
    {
     "name": "stdout",
     "output_type": "stream",
     "text": [
      "Skewness of the original column:  4.317953644012236\n",
      "Skewness of the transformed column:  0.15958083908941598\n"
     ]
    }
   ],
   "source": [
    "print('Skewness of the original column: ', data['Col6'].skew())\n",
    "print('Skewness of the transformed column: ', data['Col6_cube_root'].skew())"
   ]
  },
  {
   "cell_type": "markdown",
   "metadata": {},
   "source": [
    "#### Log Max Root:"
   ]
  },
  {
   "cell_type": "code",
   "execution_count": 127,
   "metadata": {},
   "outputs": [
    {
     "data": {
      "text/plain": [
       "count     3.100000e+02\n",
       "mean               inf\n",
       "std                NaN\n",
       "min       2.718282e+00\n",
       "25%      1.563876e+130\n",
       "50%      1.518138e+275\n",
       "75%                inf\n",
       "max                inf\n",
       "Name: Col7_log_max, dtype: float64"
      ]
     },
     "execution_count": 127,
     "metadata": {},
     "output_type": "execute_result"
    }
   ],
   "source": [
    "log_max = np.log(data['Col7'].max())\n",
    "data['Col7_log_max'] = data['Col7']**(1/log_max)\n",
    "data['Col7_log_max'].describe()"
   ]
  },
  {
   "cell_type": "code",
   "execution_count": 128,
   "metadata": {},
   "outputs": [
    {
     "name": "stdout",
     "output_type": "stream",
     "text": [
      "Skewness of the original column:  0.016230663747513467\n",
      "Skewness of the transformed column:  nan\n"
     ]
    }
   ],
   "source": [
    "print('Skewness of the original column: ', data['Col7'].skew())\n",
    "print('Skewness of the transformed column: ', data['Col7_log_max'].skew())"
   ]
  },
  {
   "cell_type": "markdown",
   "metadata": {},
   "source": [
    "#### Hyperbolic Tangent: "
   ]
  },
  {
   "cell_type": "code",
   "execution_count": 129,
   "metadata": {},
   "outputs": [
    {
     "data": {
      "text/plain": [
       "count    3.100000e+02\n",
       "mean     1.000000e+00\n",
       "std      1.712972e-07\n",
       "min      9.999984e-01\n",
       "25%      1.000000e+00\n",
       "50%      1.000000e+00\n",
       "75%      1.000000e+00\n",
       "max      1.000000e+00\n",
       "Name: Col8_tan, dtype: float64"
      ]
     },
     "execution_count": 129,
     "metadata": {},
     "output_type": "execute_result"
    }
   ],
   "source": [
    "data['Col8_tan'] = np.tanh(data['Col8'])\n",
    "data['Col8_tan'].describe()"
   ]
  },
  {
   "cell_type": "code",
   "execution_count": 130,
   "metadata": {},
   "outputs": [
    {
     "name": "stdout",
     "output_type": "stream",
     "text": [
      "Skewness of the original column:  0.01079554162390963\n",
      "Skewness of the transformed column:  0.0\n"
     ]
    }
   ],
   "source": [
    "print('Skewness of the original column: ', data['Col8'].skew())\n",
    "print('Skewness of the transformed column: ', data['Col8_tan'].skew())"
   ]
  },
  {
   "cell_type": "markdown",
   "metadata": {},
   "source": [
    "#### Box Cox Transformation:"
   ]
  },
  {
   "cell_type": "code",
   "execution_count": 154,
   "metadata": {},
   "outputs": [
    {
     "data": {
      "text/plain": [
       "count    310.000000\n",
       "mean       7.638144\n",
       "std        1.755254\n",
       "min        4.374691\n",
       "25%        6.302847\n",
       "50%        7.633996\n",
       "75%        9.109324\n",
       "max       10.739237\n",
       "Name: Col9_box_cox, dtype: float64"
      ]
     },
     "execution_count": 154,
     "metadata": {},
     "output_type": "execute_result"
    }
   ],
   "source": [
    "import scipy.stats as stats \n",
    "data['Col9_box_cox'] = stats.boxcox(data['Col9'])[0]\n",
    "data['Col9_box_cox'].describe()"
   ]
  },
  {
   "cell_type": "code",
   "execution_count": 155,
   "metadata": {},
   "outputs": [
    {
     "name": "stdout",
     "output_type": "stream",
     "text": [
      "Skewness of the original column:  0.02304615981973291\n",
      "Skewness of the transformed column:  -0.07378722336129796\n"
     ]
    }
   ],
   "source": [
    "print('Skewness of the original column: ', data['Col9'].skew())\n",
    "print('Skewness of the transformed column: ', data['Col9_box_cox'].skew())"
   ]
  },
  {
   "cell_type": "markdown",
   "metadata": {},
   "source": [
    "### Trabsformation on real life data:"
   ]
  },
  {
   "cell_type": "code",
   "execution_count": 134,
   "metadata": {},
   "outputs": [
    {
     "data": {
      "text/html": [
       "<div>\n",
       "<style scoped>\n",
       "    .dataframe tbody tr th:only-of-type {\n",
       "        vertical-align: middle;\n",
       "    }\n",
       "\n",
       "    .dataframe tbody tr th {\n",
       "        vertical-align: top;\n",
       "    }\n",
       "\n",
       "    .dataframe thead th {\n",
       "        text-align: right;\n",
       "    }\n",
       "</style>\n",
       "<table border=\"1\" class=\"dataframe\">\n",
       "  <thead>\n",
       "    <tr style=\"text-align: right;\">\n",
       "      <th>car_ID</th>\n",
       "      <th>1</th>\n",
       "      <th>2</th>\n",
       "      <th>3</th>\n",
       "      <th>4</th>\n",
       "      <th>5</th>\n",
       "    </tr>\n",
       "  </thead>\n",
       "  <tbody>\n",
       "    <tr>\n",
       "      <td>symboling</td>\n",
       "      <td>3</td>\n",
       "      <td>3</td>\n",
       "      <td>1</td>\n",
       "      <td>2</td>\n",
       "      <td>2</td>\n",
       "    </tr>\n",
       "    <tr>\n",
       "      <td>CarName</td>\n",
       "      <td>alfa-romero giulia</td>\n",
       "      <td>alfa-romero stelvio</td>\n",
       "      <td>alfa-romero Quadrifoglio</td>\n",
       "      <td>audi 100 ls</td>\n",
       "      <td>audi 100ls</td>\n",
       "    </tr>\n",
       "    <tr>\n",
       "      <td>fueltype</td>\n",
       "      <td>gas</td>\n",
       "      <td>gas</td>\n",
       "      <td>gas</td>\n",
       "      <td>gas</td>\n",
       "      <td>gas</td>\n",
       "    </tr>\n",
       "    <tr>\n",
       "      <td>aspiration</td>\n",
       "      <td>std</td>\n",
       "      <td>std</td>\n",
       "      <td>std</td>\n",
       "      <td>std</td>\n",
       "      <td>std</td>\n",
       "    </tr>\n",
       "    <tr>\n",
       "      <td>doornumber</td>\n",
       "      <td>two</td>\n",
       "      <td>two</td>\n",
       "      <td>two</td>\n",
       "      <td>four</td>\n",
       "      <td>four</td>\n",
       "    </tr>\n",
       "    <tr>\n",
       "      <td>carbody</td>\n",
       "      <td>convertible</td>\n",
       "      <td>convertible</td>\n",
       "      <td>hatchback</td>\n",
       "      <td>sedan</td>\n",
       "      <td>sedan</td>\n",
       "    </tr>\n",
       "    <tr>\n",
       "      <td>drivewheel</td>\n",
       "      <td>rwd</td>\n",
       "      <td>rwd</td>\n",
       "      <td>rwd</td>\n",
       "      <td>fwd</td>\n",
       "      <td>4wd</td>\n",
       "    </tr>\n",
       "    <tr>\n",
       "      <td>enginelocation</td>\n",
       "      <td>front</td>\n",
       "      <td>front</td>\n",
       "      <td>front</td>\n",
       "      <td>front</td>\n",
       "      <td>front</td>\n",
       "    </tr>\n",
       "    <tr>\n",
       "      <td>wheelbase</td>\n",
       "      <td>88.6</td>\n",
       "      <td>88.6</td>\n",
       "      <td>94.5</td>\n",
       "      <td>99.8</td>\n",
       "      <td>99.4</td>\n",
       "    </tr>\n",
       "    <tr>\n",
       "      <td>carlength</td>\n",
       "      <td>168.8</td>\n",
       "      <td>168.8</td>\n",
       "      <td>171.2</td>\n",
       "      <td>176.6</td>\n",
       "      <td>176.6</td>\n",
       "    </tr>\n",
       "    <tr>\n",
       "      <td>carwidth</td>\n",
       "      <td>64.1</td>\n",
       "      <td>64.1</td>\n",
       "      <td>65.5</td>\n",
       "      <td>66.2</td>\n",
       "      <td>66.4</td>\n",
       "    </tr>\n",
       "    <tr>\n",
       "      <td>carheight</td>\n",
       "      <td>48.8</td>\n",
       "      <td>48.8</td>\n",
       "      <td>52.4</td>\n",
       "      <td>54.3</td>\n",
       "      <td>54.3</td>\n",
       "    </tr>\n",
       "    <tr>\n",
       "      <td>curbweight</td>\n",
       "      <td>2548</td>\n",
       "      <td>2548</td>\n",
       "      <td>2823</td>\n",
       "      <td>2337</td>\n",
       "      <td>2824</td>\n",
       "    </tr>\n",
       "    <tr>\n",
       "      <td>enginetype</td>\n",
       "      <td>dohc</td>\n",
       "      <td>dohc</td>\n",
       "      <td>ohcv</td>\n",
       "      <td>ohc</td>\n",
       "      <td>ohc</td>\n",
       "    </tr>\n",
       "    <tr>\n",
       "      <td>cylindernumber</td>\n",
       "      <td>four</td>\n",
       "      <td>four</td>\n",
       "      <td>six</td>\n",
       "      <td>four</td>\n",
       "      <td>five</td>\n",
       "    </tr>\n",
       "    <tr>\n",
       "      <td>enginesize</td>\n",
       "      <td>130</td>\n",
       "      <td>130</td>\n",
       "      <td>152</td>\n",
       "      <td>109</td>\n",
       "      <td>136</td>\n",
       "    </tr>\n",
       "    <tr>\n",
       "      <td>fuelsystem</td>\n",
       "      <td>mpfi</td>\n",
       "      <td>mpfi</td>\n",
       "      <td>mpfi</td>\n",
       "      <td>mpfi</td>\n",
       "      <td>mpfi</td>\n",
       "    </tr>\n",
       "    <tr>\n",
       "      <td>boreratio</td>\n",
       "      <td>3.47</td>\n",
       "      <td>3.47</td>\n",
       "      <td>2.68</td>\n",
       "      <td>3.19</td>\n",
       "      <td>3.19</td>\n",
       "    </tr>\n",
       "    <tr>\n",
       "      <td>stroke</td>\n",
       "      <td>2.68</td>\n",
       "      <td>2.68</td>\n",
       "      <td>3.47</td>\n",
       "      <td>3.4</td>\n",
       "      <td>3.4</td>\n",
       "    </tr>\n",
       "    <tr>\n",
       "      <td>compressionratio</td>\n",
       "      <td>9</td>\n",
       "      <td>9</td>\n",
       "      <td>9</td>\n",
       "      <td>10</td>\n",
       "      <td>8</td>\n",
       "    </tr>\n",
       "    <tr>\n",
       "      <td>horsepower</td>\n",
       "      <td>111</td>\n",
       "      <td>111</td>\n",
       "      <td>154</td>\n",
       "      <td>102</td>\n",
       "      <td>115</td>\n",
       "    </tr>\n",
       "    <tr>\n",
       "      <td>peakrpm</td>\n",
       "      <td>5000</td>\n",
       "      <td>5000</td>\n",
       "      <td>5000</td>\n",
       "      <td>5500</td>\n",
       "      <td>5500</td>\n",
       "    </tr>\n",
       "    <tr>\n",
       "      <td>citympg</td>\n",
       "      <td>21</td>\n",
       "      <td>21</td>\n",
       "      <td>19</td>\n",
       "      <td>24</td>\n",
       "      <td>18</td>\n",
       "    </tr>\n",
       "    <tr>\n",
       "      <td>highwaympg</td>\n",
       "      <td>27</td>\n",
       "      <td>27</td>\n",
       "      <td>26</td>\n",
       "      <td>30</td>\n",
       "      <td>22</td>\n",
       "    </tr>\n",
       "    <tr>\n",
       "      <td>price</td>\n",
       "      <td>13495</td>\n",
       "      <td>16500</td>\n",
       "      <td>16500</td>\n",
       "      <td>13950</td>\n",
       "      <td>17450</td>\n",
       "    </tr>\n",
       "  </tbody>\n",
       "</table>\n",
       "</div>"
      ],
      "text/plain": [
       "car_ID                             1                    2  \\\n",
       "symboling                          3                    3   \n",
       "CarName           alfa-romero giulia  alfa-romero stelvio   \n",
       "fueltype                         gas                  gas   \n",
       "aspiration                       std                  std   \n",
       "doornumber                       two                  two   \n",
       "carbody                  convertible          convertible   \n",
       "drivewheel                       rwd                  rwd   \n",
       "enginelocation                 front                front   \n",
       "wheelbase                       88.6                 88.6   \n",
       "carlength                      168.8                168.8   \n",
       "carwidth                        64.1                 64.1   \n",
       "carheight                       48.8                 48.8   \n",
       "curbweight                      2548                 2548   \n",
       "enginetype                      dohc                 dohc   \n",
       "cylindernumber                  four                 four   \n",
       "enginesize                       130                  130   \n",
       "fuelsystem                      mpfi                 mpfi   \n",
       "boreratio                       3.47                 3.47   \n",
       "stroke                          2.68                 2.68   \n",
       "compressionratio                   9                    9   \n",
       "horsepower                       111                  111   \n",
       "peakrpm                         5000                 5000   \n",
       "citympg                           21                   21   \n",
       "highwaympg                        27                   27   \n",
       "price                          13495                16500   \n",
       "\n",
       "car_ID                                   3            4           5  \n",
       "symboling                                1            2           2  \n",
       "CarName           alfa-romero Quadrifoglio  audi 100 ls  audi 100ls  \n",
       "fueltype                               gas          gas         gas  \n",
       "aspiration                             std          std         std  \n",
       "doornumber                             two         four        four  \n",
       "carbody                          hatchback        sedan       sedan  \n",
       "drivewheel                             rwd          fwd         4wd  \n",
       "enginelocation                       front        front       front  \n",
       "wheelbase                             94.5         99.8        99.4  \n",
       "carlength                            171.2        176.6       176.6  \n",
       "carwidth                              65.5         66.2        66.4  \n",
       "carheight                             52.4         54.3        54.3  \n",
       "curbweight                            2823         2337        2824  \n",
       "enginetype                            ohcv          ohc         ohc  \n",
       "cylindernumber                         six         four        five  \n",
       "enginesize                             152          109         136  \n",
       "fuelsystem                            mpfi         mpfi        mpfi  \n",
       "boreratio                             2.68         3.19        3.19  \n",
       "stroke                                3.47          3.4         3.4  \n",
       "compressionratio                         9           10           8  \n",
       "horsepower                             154          102         115  \n",
       "peakrpm                               5000         5500        5500  \n",
       "citympg                                 19           24          18  \n",
       "highwaympg                              26           30          22  \n",
       "price                                16500        13950       17450  "
      ]
     },
     "execution_count": 134,
     "metadata": {},
     "output_type": "execute_result"
    }
   ],
   "source": [
    "# Read the database\n",
    "data = pd.read_csv('Car_Data_1.csv', index_col = 'car_ID')\n",
    "data.head().T"
   ]
  },
  {
   "cell_type": "code",
   "execution_count": 136,
   "metadata": {},
   "outputs": [
    {
     "data": {
      "text/plain": [
       "count      205.000000\n",
       "mean     13276.710571\n",
       "std       7988.852332\n",
       "min       5118.000000\n",
       "25%       7788.000000\n",
       "50%      10295.000000\n",
       "75%      16503.000000\n",
       "max      45400.000000\n",
       "Name: price, dtype: float64"
      ]
     },
     "execution_count": 136,
     "metadata": {},
     "output_type": "execute_result"
    }
   ],
   "source": [
    "data['price'].describe()"
   ]
  },
  {
   "cell_type": "code",
   "execution_count": 137,
   "metadata": {},
   "outputs": [
    {
     "name": "stdout",
     "output_type": "stream",
     "text": [
      "Skewness of Price:  1.7776781560914454\n"
     ]
    }
   ],
   "source": [
    "# As we can checn mean > median, that means data is right skewed.\n",
    "print('Skewness of Price: ', data['price'].skew())"
   ]
  },
  {
   "cell_type": "code",
   "execution_count": 139,
   "metadata": {},
   "outputs": [
    {
     "data": {
      "image/png": "[encoded data removed]",
      "text/plain": [
       "<Figure size 432x288 with 1 Axes>"
      ]
     },
     "metadata": {
      "needs_background": "light"
     },
     "output_type": "display_data"
    }
   ],
   "source": [
    "# Let's check the distribution plot for price.\n",
    "sns.distplot(data['price'])\n",
    "plt.show()"
   ]
  },
  {
   "cell_type": "code",
   "execution_count": 140,
   "metadata": {},
   "outputs": [
    {
     "data": {
      "text/plain": [
       "count    205.000000\n",
       "mean     111.120840\n",
       "std       30.551968\n",
       "min       71.540198\n",
       "25%       88.249646\n",
       "50%      101.464279\n",
       "75%      128.464003\n",
       "max      213.072758\n",
       "Name: price_sqrt, dtype: float64"
      ]
     },
     "execution_count": 140,
     "metadata": {},
     "output_type": "execute_result"
    }
   ],
   "source": [
    "# Let's apply variouse methods to reduce the skewness.\n",
    "# Method 1: Square Root Transformation\n",
    "data['price_sqrt'] = data['price']**(1/2)\n",
    "data['price_sqrt'].describe()"
   ]
  },
  {
   "cell_type": "markdown",
   "metadata": {},
   "source": [
    "Mean is close to median after transformation."
   ]
  },
  {
   "cell_type": "code",
   "execution_count": 141,
   "metadata": {},
   "outputs": [
    {
     "name": "stdout",
     "output_type": "stream",
     "text": [
      "Skewness of the transformed price:  1.2046203000198417\n"
     ]
    }
   ],
   "source": [
    "# Let's check the skewness of the transformed data.\n",
    "print('Skewness of the transformed price: ', data['price_sqrt'].skew())"
   ]
  },
  {
   "cell_type": "code",
   "execution_count": 142,
   "metadata": {},
   "outputs": [
    {
     "data": {
      "image/png": "[encoded data removed]",
      "text/plain": [
       "<Figure size 432x288 with 1 Axes>"
      ]
     },
     "metadata": {
      "needs_background": "light"
     },
     "output_type": "display_data"
    }
   ],
   "source": [
    "# Let's check the distribution plot.\n",
    "sns.distplot(data['price_sqrt'])\n",
    "plt.show()"
   ]
  },
  {
   "cell_type": "code",
   "execution_count": 143,
   "metadata": {},
   "outputs": [
    {
     "data": {
      "text/plain": [
       "count    205.000000\n",
       "mean      22.937465\n",
       "std        4.080755\n",
       "min       17.233233\n",
       "25%       19.821749\n",
       "50%       21.754150\n",
       "75%       25.459760\n",
       "max       35.674012\n",
       "Name: price_cube_root, dtype: float64"
      ]
     },
     "execution_count": 143,
     "metadata": {},
     "output_type": "execute_result"
    }
   ],
   "source": [
    "# Method 2: Cube root transformation\n",
    "data['price_cube_root'] = data['price']**(1/3)\n",
    "data['price_cube_root'].describe()"
   ]
  },
  {
   "cell_type": "markdown",
   "metadata": {},
   "source": [
    "Median is less than mean, but they are very close to each other."
   ]
  },
  {
   "cell_type": "code",
   "execution_count": 144,
   "metadata": {},
   "outputs": [
    {
     "name": "stdout",
     "output_type": "stream",
     "text": [
      "Skewness of the transformed price:  1.021018408796359\n"
     ]
    }
   ],
   "source": [
    "# Let's check the skewness of the transformed data.\n",
    "print('Skewness of the transformed price: ', data['price_cube_root'].skew())"
   ]
  },
  {
   "cell_type": "code",
   "execution_count": 145,
   "metadata": {},
   "outputs": [
    {
     "data": {
      "image/png": "[encoded data removed]",
      "text/plain": [
       "<Figure size 432x288 with 1 Axes>"
      ]
     },
     "metadata": {
      "needs_background": "light"
     },
     "output_type": "display_data"
    }
   ],
   "source": [
    "# Let's check the distribution plot.\n",
    "sns.distplot(data['price_cube_root'])\n",
    "plt.show()"
   ]
  },
  {
   "cell_type": "code",
   "execution_count": 146,
   "metadata": {},
   "outputs": [
    {
     "data": {
      "text/plain": [
       "count    205.000000\n",
       "mean       9.354679\n",
       "std        0.503805\n",
       "min        8.540519\n",
       "25%        8.960339\n",
       "50%        9.239414\n",
       "75%        9.711297\n",
       "max       10.723267\n",
       "Name: price_log, dtype: float64"
      ]
     },
     "execution_count": 146,
     "metadata": {},
     "output_type": "execute_result"
    }
   ],
   "source": [
    "# Log Transformation:\n",
    "data['price_log'] = np.log(data['price'])\n",
    "data['price_log'].describe()"
   ]
  },
  {
   "cell_type": "markdown",
   "metadata": {},
   "source": [
    "Median is less than mean, but they are very close to each other."
   ]
  },
  {
   "cell_type": "code",
   "execution_count": 147,
   "metadata": {},
   "outputs": [
    {
     "name": "stdout",
     "output_type": "stream",
     "text": [
      "Skewness of the transformed price:  0.672888533977329\n"
     ]
    }
   ],
   "source": [
    "# Let's check the skewness of the transformed data.\n",
    "print('Skewness of the transformed price: ', data['price_log'].skew())"
   ]
  },
  {
   "cell_type": "code",
   "execution_count": 148,
   "metadata": {},
   "outputs": [
    {
     "data": {
      "image/png": "[encoded data removed]",
      "text/plain": [
       "<Figure size 432x288 with 1 Axes>"
      ]
     },
     "metadata": {
      "needs_background": "light"
     },
     "output_type": "display_data"
    }
   ],
   "source": [
    "# Let's check the distribution plot.\n",
    "sns.distplot(data['price_log'])\n",
    "plt.show()"
   ]
  },
  {
   "cell_type": "markdown",
   "metadata": {},
   "source": [
    "Log transformation has reduced skewness with significant amount.    \n",
    "We can go ahead with the Log transformation for price."
   ]
  },
  {
   "cell_type": "code",
   "execution_count": null,
   "metadata": {},
   "outputs": [],
   "source": []
  }
 ],
 "metadata": {
  "kernelspec": {
   "display_name": "Python 3",
   "language": "python",
   "name": "python3"
  },
  "language_info": {
   "codemirror_mode": {
    "name": "ipython",
    "version": 3
   },
   "file_extension": ".py",
   "mimetype": "text/x-python",
   "name": "python",
   "nbconvert_exporter": "python",
   "pygments_lexer": "ipython3",
   "version": "3.7.4"
  }
 },
 "nbformat": 4,
 "nbformat_minor": 2
}
